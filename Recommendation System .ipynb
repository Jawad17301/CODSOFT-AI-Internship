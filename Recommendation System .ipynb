{
 "cells": [
  {
   "cell_type": "code",
   "execution_count": 9,
   "id": "c17194e9",
   "metadata": {},
   "outputs": [
    {
     "name": "stdout",
     "output_type": "stream",
     "text": [
      "Recommended movies similar to 'Toy Story (1995)':\n",
      "Toy Story 2 (1999)\n",
      "Jurassic Park (1993)\n",
      "Independence Day (a.k.a. ID4) (1996)\n",
      "Star Wars: Episode IV - A New Hope (1977)\n",
      "Forrest Gump (1994)\n"
     ]
    }
   ],
   "source": [
    "import pandas as pd\n",
    "from sklearn.metrics.pairwise import cosine_similarity\n",
    "\n",
    "# Load the MovieLens dataset (You can download it from https://grouplens.org/datasets/movielens/)\n",
    "movies = pd.read_csv('movies.csv')\n",
    "ratings = pd.read_csv('ratings.csv')\n",
    "\n",
    "# Merge the datasets to get user-item ratings\n",
    "movie_ratings = pd.merge(ratings, movies, on='movieId')\n",
    "\n",
    "# Create a user-item matrix\n",
    "user_movie_ratings = pd.pivot_table(movie_ratings, index='userId', columns='title', values='rating')\n",
    "\n",
    "# Fill missing values with 0\n",
    "user_movie_ratings = user_movie_ratings.fillna(0)\n",
    "\n",
    "# Calculate similarity between movies using cosine similarity\n",
    "movie_similarity = cosine_similarity(user_movie_ratings.T)\n",
    "\n",
    "# Create a DataFrame for movie recommendations\n",
    "movie_similarity_df = pd.DataFrame(movie_similarity, index=user_movie_ratings.columns, columns=user_movie_ratings.columns)\n",
    "\n",
    "# Define a function to get movie recommendations for a given movie\n",
    "def get_movie_recommendations(movie_title, num_recommendations=5):\n",
    "    similar_movies = movie_similarity_df[movie_title].sort_values(ascending=False)\n",
    "    similar_movies = similar_movies.drop(movie_title)\n",
    "    recommendations = similar_movies.head(num_recommendations)\n",
    "    return recommendations.index.tolist()\n",
    "\n",
    "# Get movie recommendations for a specific movie\n",
    "movie_title = 'Toy Story (1995)'\n",
    "recommendations = get_movie_recommendations(movie_title)\n",
    "\n",
    "# Print the recommendations\n",
    "print(f\"Recommended movies similar to '{movie_title}':\")\n",
    "for movie in recommendations:\n",
    "    print(movie)"
   ]
  },
  {
   "cell_type": "code",
   "execution_count": 11,
   "id": "23d99e69",
   "metadata": {},
   "outputs": [
    {
     "name": "stdout",
     "output_type": "stream",
     "text": [
      "Recommended movies similar to 'Toy Story (1995)':\n",
      "1. 'night Mother (1986)\n",
      "2. Jurassic Park (1993)\n",
      "3. Independence Day (a.k.a. ID4) (1996)\n",
      "4. Star Wars: Episode IV - A New Hope (1977)\n",
      "5. Forrest Gump (1994)\n"
     ]
    }
   ],
   "source": [
    "import pandas as pd\n",
    "from sklearn.neighbors import NearestNeighbors\n",
    "\n",
    "# Load the MovieLens dataset \n",
    "movies = pd.read_csv('movies.csv')\n",
    "ratings = pd.read_csv('ratings.csv')\n",
    "\n",
    "# Create a user-item matrix\n",
    "user_movie_ratings = pd.pivot_table(ratings, index='userId', columns='movieId', values='rating', fill_value=0)\n",
    "\n",
    "# Instantiate and fit a Nearest Neighbors model\n",
    "knn = NearestNeighbors(n_neighbors=5, metric='cosine', algorithm='brute')\n",
    "knn.fit(user_movie_ratings.values.T)\n",
    "\n",
    "# Function to get movie recommendations for a given movie\n",
    "def get_movie_recommendations(movie_title, num_recommendations=5):\n",
    "    movie_idx = movies[movies['title'] == movie_title].index[0]\n",
    "    _, indices = knn.kneighbors(user_movie_ratings.iloc[:, movie_idx].values.reshape(1, -1), n_neighbors=num_recommendations+1)\n",
    "    recommended_movie_indices = indices[0][1:]  # Exclude the input movie itself\n",
    "    recommendations = movies.iloc[recommended_movie_indices]['title'].tolist()\n",
    "    return recommendations\n",
    "\n",
    "# Get movie recommendations for a specific movie\n",
    "movie_title = 'Toy Story (1995)'\n",
    "recommendations = get_movie_recommendations(movie_title)\n",
    "\n",
    "# Print the recommendations\n",
    "print(f\"Recommended movies similar to '{movie_title}':\")\n",
    "for i, movie in enumerate(recommendations, start=1):\n",
    "    print(f\"{i}. {movie}\")\n"
   ]
  },
  {
   "cell_type": "code",
   "execution_count": null,
   "id": "b5ff19ec",
   "metadata": {},
   "outputs": [],
   "source": []
  }
 ],
 "metadata": {
  "kernelspec": {
   "display_name": "Python 3 (ipykernel)",
   "language": "python",
   "name": "python3"
  },
  "language_info": {
   "codemirror_mode": {
    "name": "ipython",
    "version": 3
   },
   "file_extension": ".py",
   "mimetype": "text/x-python",
   "name": "python",
   "nbconvert_exporter": "python",
   "pygments_lexer": "ipython3",
   "version": "3.9.12"
  }
 },
 "nbformat": 4,
 "nbformat_minor": 5
}
