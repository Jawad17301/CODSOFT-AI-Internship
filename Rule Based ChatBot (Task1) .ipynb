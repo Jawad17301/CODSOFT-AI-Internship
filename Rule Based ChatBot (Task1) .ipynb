{
 "cells": [
  {
   "cell_type": "code",
   "execution_count": 1,
   "id": "c2cfe104",
   "metadata": {},
   "outputs": [],
   "source": [
    "#First of all import libraries \n",
    "import re"
   ]
  },
  {
   "cell_type": "code",
   "execution_count": 2,
   "id": "77a468c7",
   "metadata": {},
   "outputs": [],
   "source": [
    "#Define a dictionary of predefined rules\n",
    "rules = {\n",
    "    \"hello\": \"Hello! How can I help you today?\",\n",
    "    \"what is your name\": \"My name is Jawad Ahmad. I am a Junior Data Scientist from Google.\",\n",
    "    \"what is the time\": \"The time is currently 9:09 AM PST on October 9, 2023.\",\n",
    "}"
   ]
  },
  {
   "cell_type": "code",
   "execution_count": 3,
   "id": "6b204979",
   "metadata": {},
   "outputs": [],
   "source": [
    "#Implement the chatbot logic\n",
    "def chatbot(user_input):\n",
    "    # Check if the user query matches any of the predefined rules.\n",
    "    for query, response in rules.items():\n",
    "        if re.match(query, user_input):\n",
    "            return response\n",
    "\n",
    "# If the user query does not match any of the predefined rules, return a generic response.\n",
    "    return \"I'm sorry, I don't understand your query.\"\n"
   ]
  },
  {
   "cell_type": "code",
   "execution_count": 4,
   "id": "53a71ed3",
   "metadata": {},
   "outputs": [
    {
     "name": "stdout",
     "output_type": "stream",
     "text": [
      "What would you like to say? what is your name?\n",
      "My name is Jawad Ahmad. I am a Junior Data Scientist from Google.\n"
     ]
    }
   ],
   "source": [
    "#Let's Kickstart the Chatbot\n",
    "user_input = input(\"What would you like to say? \")\n",
    "chatbot_response = chatbot(user_input)\n",
    "print(chatbot_response)\n"
   ]
  },
  {
   "cell_type": "code",
   "execution_count": null,
   "id": "f0b86ca2",
   "metadata": {},
   "outputs": [],
   "source": []
  }
 ],
 "metadata": {
  "kernelspec": {
   "display_name": "Python 3 (ipykernel)",
   "language": "python",
   "name": "python3"
  },
  "language_info": {
   "codemirror_mode": {
    "name": "ipython",
    "version": 3
   },
   "file_extension": ".py",
   "mimetype": "text/x-python",
   "name": "python",
   "nbconvert_exporter": "python",
   "pygments_lexer": "ipython3",
   "version": "3.9.12"
  }
 },
 "nbformat": 4,
 "nbformat_minor": 5
}
